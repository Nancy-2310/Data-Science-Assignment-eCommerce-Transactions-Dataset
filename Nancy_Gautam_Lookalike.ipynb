{
 "cells": [
  {
   "cell_type": "code",
   "execution_count": 23,
   "id": "9e55d948",
   "metadata": {},
   "outputs": [],
   "source": [
    "# Load the Data\n",
    "\n",
    "import pandas as pd\n",
    "from sklearn.metrics.pairwise import cosine_similarity\n",
    "from sklearn.preprocessing import LabelEncoder\n",
    "\n",
    "# Load the datasets\n",
    "customers_df = pd.read_csv(\"Customers.csv\")\n",
    "transactions_df = pd.read_csv(\"Transactions.csv\")\n",
    "products_df = pd.read_csv(\"Products.csv\")\n"
   ]
  },
  {
   "cell_type": "code",
   "execution_count": 13,
   "id": "72fea215",
   "metadata": {},
   "outputs": [
    {
     "name": "stdout",
     "output_type": "stream",
     "text": [
      "Customers Data:\n",
      "  CustomerID        CustomerName         Region  SignupDate\n",
      "0      C0001    Lawrence Carroll  South America  2022-07-10\n",
      "1      C0002      Elizabeth Lutz           Asia  2022-02-13\n",
      "2      C0003      Michael Rivera  South America  2024-03-07\n",
      "3      C0004  Kathleen Rodriguez  South America  2022-10-09\n",
      "4      C0005         Laura Weber           Asia  2022-08-15\n",
      "\n",
      "Transactions Data:\n",
      "  TransactionID CustomerID ProductID      TransactionDate  Quantity  \\\n",
      "0        T00001      C0199      P067  2024-08-25 12:38:23         1   \n",
      "1        T00112      C0146      P067  2024-05-27 22:23:54         1   \n",
      "2        T00166      C0127      P067  2024-04-25 07:38:55         1   \n",
      "3        T00272      C0087      P067  2024-03-26 22:55:37         2   \n",
      "4        T00363      C0070      P067  2024-03-21 15:10:10         3   \n",
      "\n",
      "   TotalValue   Price  \n",
      "0      300.68  300.68  \n",
      "1      300.68  300.68  \n",
      "2      300.68  300.68  \n",
      "3      601.36  300.68  \n",
      "4      902.04  300.68  \n",
      "\n",
      "Products Data:\n",
      "  ProductID              ProductName     Category   Price\n",
      "0      P001     ActiveWear Biography        Books  169.30\n",
      "1      P002    ActiveWear Smartwatch  Electronics  346.30\n",
      "2      P003  ComfortLiving Biography        Books   44.12\n",
      "3      P004            BookWorld Rug   Home Decor   95.69\n",
      "4      P005          TechPro T-Shirt     Clothing  429.31\n"
     ]
    }
   ],
   "source": [
    "# Display the first few rows of each dataset to understand its structure\n",
    "print(\"Customers Data:\")\n",
    "print(customers_df.head())\n",
    "print(\"\\nTransactions Data:\")\n",
    "print(transactions_df.head())\n",
    "print(\"\\nProducts Data:\")\n",
    "print(products_df.head())\n"
   ]
  },
  {
   "cell_type": "code",
   "execution_count": 24,
   "id": "f2bddb9e",
   "metadata": {},
   "outputs": [
    {
     "name": "stdout",
     "output_type": "stream",
     "text": [
      "Customer Summary DataFrame:\n",
      "  CustomerID  total_transactions  total_spent  avg_spent\n",
      "0      C0001                   5      3354.52    670.904\n",
      "1      C0002                   4      1862.74    465.685\n",
      "2      C0003                   4      2725.38    681.345\n",
      "3      C0004                   8      5354.88    669.360\n",
      "4      C0005                   3      2034.24    678.080\n"
     ]
    }
   ],
   "source": [
    "# Data Preprocessing: Summarize customer transactions\n",
    "customer_summary = transactions_df.groupby('CustomerID').agg(\n",
    "    total_transactions=('TransactionID', 'count'),\n",
    "    total_spent=('TotalValue', 'sum'),\n",
    "    avg_spent=('TotalValue', 'mean')\n",
    ").reset_index()\n",
    "\n",
    "print(\"Customer Summary DataFrame:\")\n",
    "print(customer_summary.head())\n",
    "\n"
   ]
  },
  {
   "cell_type": "code",
   "execution_count": 25,
   "id": "ba7db16f",
   "metadata": {},
   "outputs": [
    {
     "name": "stdout",
     "output_type": "stream",
     "text": [
      "Merged Data (Customer Profile + Transaction Summary):\n",
      "  CustomerID  total_transactions  total_spent  avg_spent         Region\n",
      "0      C0001                   5      3354.52    670.904  South America\n",
      "1      C0002                   4      1862.74    465.685           Asia\n",
      "2      C0003                   4      2725.38    681.345  South America\n",
      "3      C0004                   8      5354.88    669.360  South America\n",
      "4      C0005                   3      2034.24    678.080           Asia\n"
     ]
    }
   ],
   "source": [
    "# Merge customer summary with customer profile (including Region)\n",
    "merged_data = pd.merge(customer_summary, customers_df[['CustomerID', 'Region']], on='CustomerID', how='left')\n",
    "\n",
    "print(\"Merged Data (Customer Profile + Transaction Summary):\")\n",
    "print(merged_data.head())\n",
    "\n"
   ]
  },
  {
   "cell_type": "code",
   "execution_count": 26,
   "id": "a7fb16db",
   "metadata": {},
   "outputs": [
    {
     "name": "stdout",
     "output_type": "stream",
     "text": [
      "Encoded Region Data:\n",
      "  CustomerID         Region  Region_encoded\n",
      "0      C0001  South America               3\n",
      "1      C0002           Asia               0\n",
      "2      C0003  South America               3\n",
      "3      C0004  South America               3\n",
      "4      C0005           Asia               0\n"
     ]
    }
   ],
   "source": [
    "# Encoding 'Region' using LabelEncoder\n",
    "le = LabelEncoder()\n",
    "merged_data['Region_encoded'] = le.fit_transform(merged_data['Region'])\n",
    "\n",
    "print(\"Encoded Region Data:\")\n",
    "print(merged_data[['CustomerID', 'Region', 'Region_encoded']].head())\n",
    "\n",
    "# Create a customer profile vector: [Region_encoded, total_spent, avg_spent]\n",
    "merged_data['profile_vector'] = merged_data[['Region_encoded', 'total_spent', 'avg_spent']].apply(list, axis=1)\n"
   ]
  },
  {
   "cell_type": "code",
   "execution_count": 27,
   "id": "0b3b8713",
   "metadata": {},
   "outputs": [
    {
     "name": "stdout",
     "output_type": "stream",
     "text": [
      "Customer Profiles DataFrame:\n",
      "     0        1        2\n",
      "0  3.0  3354.52  670.904\n",
      "1  0.0  1862.74  465.685\n",
      "2  3.0  2725.38  681.345\n",
      "3  3.0  5354.88  669.360\n",
      "4  0.0  2034.24  678.080\n",
      "Cosine Similarity Matrix:\n",
      "[[1.         0.99886775 0.99886812 0.99733367 0.9922775 ]\n",
      " [0.99886775 1.         0.99999943 0.99273363 0.99705449]\n",
      " [0.99886812 0.99999943 1.         0.99273366 0.99705392]\n",
      " [0.99733367 0.99273363 0.99273366 1.         0.98058052]\n",
      " [0.9922775  0.99705449 0.99705392 0.98058052 1.        ]]\n"
     ]
    }
   ],
   "source": [
    "# Calculate cosine similarity between customer profiles\n",
    "customer_profiles = merged_data['profile_vector'].apply(pd.Series)\n",
    "\n",
    "print(\"Customer Profiles DataFrame:\")\n",
    "print(customer_profiles.head())\n",
    "\n",
    "similarity_matrix = cosine_similarity(customer_profiles)\n",
    "\n",
    "print(\"Cosine Similarity Matrix:\")\n",
    "print(similarity_matrix[:5, :5])  # Print the first 5x5 block of the matrix\n",
    "\n"
   ]
  },
  {
   "cell_type": "code",
   "execution_count": 30,
   "id": "9724ae20",
   "metadata": {},
   "outputs": [
    {
     "name": "stdout",
     "output_type": "stream",
     "text": [
      "\n",
      "Lookalike recommendations have been saved to 'Nancy_Gautam_Lookalike.csv'. Preview:\n",
      "       Recommended_Customers  \\\n",
      "C0001  [C0137, C0152, C0119]   \n",
      "C0002  [C0142, C0002, C0178]   \n",
      "C0003  [C0029, C0133, C0121]   \n",
      "C0004  [C0139, C0113, C0102]   \n",
      "C0005  [C0159, C0115, C0007]   \n",
      "\n",
      "                                       Similarity_Scores  \n",
      "C0001  [0.9999999999832881, 0.9999999999670558, 0.999...  \n",
      "C0002  [1.0000000000000002, 1.0000000000000002, 1.000...  \n",
      "C0003  [0.9999999998276338, 0.9999999982683516, 0.999...  \n",
      "C0004  [0.9999999997985746, 0.9999999980341167, 0.999...  \n",
      "C0005                                    [1.0, 1.0, 1.0]  \n"
     ]
    }
   ],
   "source": [
    "# Create a list of recommended customers and similarity scores\n",
    "recommendations_list = []\n",
    "for customer, recommendations in lookalike_recommendations.items():\n",
    "    customer_ids = [rec[0] for rec in recommendations]\n",
    "    similarity_scores = [rec[1] for rec in recommendations]\n",
    "    recommendations_list.append([customer_ids, similarity_scores])\n",
    "\n",
    "# Create a DataFrame with columns for the recommended customers and their similarity scores\n",
    "lookalike_df = pd.DataFrame(recommendations_list, index=lookalike_recommendations.keys(), columns=['Recommended_Customers', 'Similarity_Scores'])\n",
    "\n",
    "# Save to CSV\n",
    "lookalike_df.to_csv('Nancy_Gautam_Lookalike.csv', index_label='CustomerID')\n",
    "\n",
    "# Displaying a preview of the saved file\n",
    "print(\"\\nLookalike recommendations have been saved to 'Nancy_Gautam_Lookalike.csv'. Preview:\")\n",
    "print(lookalike_df.head())\n",
    "\n",
    "\n",
    "\n"
   ]
  },
  {
   "cell_type": "code",
   "execution_count": 31,
   "id": "a78e00e2",
   "metadata": {},
   "outputs": [
    {
     "name": "stdout",
     "output_type": "stream",
     "text": [
      "Average similarity score: 1.0000\n"
     ]
    }
   ],
   "source": [
    "import numpy as np\n",
    "\n",
    "# Calculate the average similarity score of the top N recommendations\n",
    "similarity_scores = []\n",
    "for customer_id, recommendations in lookalike_recommendations.items():\n",
    "    for rec in recommendations:\n",
    "        similarity_scores.append(rec[1])  # similarity score of the recommendation\n",
    "\n",
    "# Average similarity score across all recommendations\n",
    "average_similarity = np.mean(similarity_scores)\n",
    "print(f\"Average similarity score: {average_similarity:.4f}\")\n"
   ]
  },
  {
   "cell_type": "code",
   "execution_count": 32,
   "id": "35ab03bc",
   "metadata": {},
   "outputs": [
    {
     "name": "stdout",
     "output_type": "stream",
     "text": [
      "Recommendations for Customer C0001:\n",
      "\tCustomerID: C0137, Similarity Score: 1.0000\n",
      "\tCustomerID: C0152, Similarity Score: 1.0000\n",
      "\tCustomerID: C0119, Similarity Score: 1.0000\n",
      "Recommendations for Customer C0002:\n",
      "\tCustomerID: C0142, Similarity Score: 1.0000\n",
      "\tCustomerID: C0002, Similarity Score: 1.0000\n",
      "\tCustomerID: C0178, Similarity Score: 1.0000\n",
      "Recommendations for Customer C0003:\n",
      "\tCustomerID: C0029, Similarity Score: 1.0000\n",
      "\tCustomerID: C0133, Similarity Score: 1.0000\n",
      "\tCustomerID: C0121, Similarity Score: 1.0000\n",
      "Recommendations for Customer C0004:\n",
      "\tCustomerID: C0139, Similarity Score: 1.0000\n",
      "\tCustomerID: C0113, Similarity Score: 1.0000\n",
      "\tCustomerID: C0102, Similarity Score: 1.0000\n",
      "Recommendations for Customer C0005:\n",
      "\tCustomerID: C0159, Similarity Score: 1.0000\n",
      "\tCustomerID: C0115, Similarity Score: 1.0000\n",
      "\tCustomerID: C0007, Similarity Score: 1.0000\n"
     ]
    }
   ],
   "source": [
    "# Recommend top 3 similar customers for the first 20 customers\n",
    "lookalike_recommendations = {}\n",
    "\n",
    "for i in range(20):  # For customers C0001 to C0020\n",
    "    # Get similarities for the i-th customer\n",
    "    similarities = similarity_matrix[i]\n",
    "    \n",
    "    # Get the indices of the 3 most similar customers\n",
    "    similar_indices = similarities.argsort()[-4:-1][::-1]  # Excluding self (first index)\n",
    "    \n",
    "    # Create a dictionary of similar customers and their similarity scores\n",
    "    similar_customers = [(merged_data['CustomerID'].iloc[j], similarities[j]) for j in similar_indices]\n",
    "    lookalike_recommendations[merged_data['CustomerID'].iloc[i]] = similar_customers\n",
    "\n",
    "# Print a few recommendations for the first 5 customers\n",
    "for customer, recommendations in list(lookalike_recommendations.items())[:5]:\n",
    "    print(f\"Recommendations for Customer {customer}:\")\n",
    "    for rec in recommendations:\n",
    "        print(f\"\\tCustomerID: {rec[0]}, Similarity Score: {rec[1]:.4f}\")"
   ]
  },
  {
   "cell_type": "code",
   "execution_count": null,
   "id": "ff182e29",
   "metadata": {},
   "outputs": [],
   "source": []
  }
 ],
 "metadata": {
  "kernelspec": {
   "display_name": "Python 3 (ipykernel)",
   "language": "python",
   "name": "python3"
  },
  "language_info": {
   "codemirror_mode": {
    "name": "ipython",
    "version": 3
   },
   "file_extension": ".py",
   "mimetype": "text/x-python",
   "name": "python",
   "nbconvert_exporter": "python",
   "pygments_lexer": "ipython3",
   "version": "3.9.12"
  }
 },
 "nbformat": 4,
 "nbformat_minor": 5
}
